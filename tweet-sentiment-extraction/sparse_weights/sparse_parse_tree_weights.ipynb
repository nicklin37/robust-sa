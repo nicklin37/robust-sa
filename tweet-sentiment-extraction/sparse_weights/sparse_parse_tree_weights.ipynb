{
 "cells": [
  {
   "cell_type": "code",
   "execution_count": 132,
   "id": "c408f49b-b6b9-42c8-8270-6942809ea611",
   "metadata": {},
   "outputs": [],
   "source": [
    "import nltk\n",
    "from nltk.corpus import treebank \n",
    "from nltk.tree import Tree\n",
    "import csv \n",
    "import pandas as pd\n",
    "import numpy as np\n",
    "import seaborn as sns\n",
    "import string\n",
    "import re\n",
    "import math\n",
    "import sklearn\n",
    "from sklearn.model_selection import train_test_split"
   ]
  },
  {
   "cell_type": "code",
   "execution_count": 32,
   "id": "c6a3ff3b-55d9-4e60-a93b-4e7c0ea6bc47",
   "metadata": {},
   "outputs": [],
   "source": [
    "df = pd.read_csv(r'../data/train_final.csv')\n",
    "df = df.loc[df['sentiment'] != 'neutral']\n",
    "\n",
    "def calculate_class(x):\n",
    "    if x == 'negative':\n",
    "        return -1.0\n",
    "    if x == 'positive':\n",
    "        return 1.0\n",
    "    return 0.0\n",
    "\n",
    "df['classification'] = df['sentiment'].apply(lambda x : calculate_class(x))"
   ]
  },
  {
   "cell_type": "code",
   "execution_count": 33,
   "id": "7ac38c91-f4c1-42ad-bf6a-b2244ced0484",
   "metadata": {},
   "outputs": [
    {
     "data": {
      "text/html": [
       "<div>\n",
       "<style scoped>\n",
       "    .dataframe tbody tr th:only-of-type {\n",
       "        vertical-align: middle;\n",
       "    }\n",
       "\n",
       "    .dataframe tbody tr th {\n",
       "        vertical-align: top;\n",
       "    }\n",
       "\n",
       "    .dataframe thead th {\n",
       "        text-align: right;\n",
       "    }\n",
       "</style>\n",
       "<table border=\"1\" class=\"dataframe\">\n",
       "  <thead>\n",
       "    <tr style=\"text-align: right;\">\n",
       "      <th></th>\n",
       "      <th>text</th>\n",
       "      <th>sentiment</th>\n",
       "      <th>classification</th>\n",
       "    </tr>\n",
       "  </thead>\n",
       "  <tbody>\n",
       "    <tr>\n",
       "      <th>1</th>\n",
       "      <td>Sooo SAD I will miss you here in San Diego!!!</td>\n",
       "      <td>negative</td>\n",
       "      <td>-1.0</td>\n",
       "    </tr>\n",
       "    <tr>\n",
       "      <th>2</th>\n",
       "      <td>my boss is bullying me...</td>\n",
       "      <td>negative</td>\n",
       "      <td>-1.0</td>\n",
       "    </tr>\n",
       "    <tr>\n",
       "      <th>3</th>\n",
       "      <td>what interview! leave me alone</td>\n",
       "      <td>negative</td>\n",
       "      <td>-1.0</td>\n",
       "    </tr>\n",
       "    <tr>\n",
       "      <th>4</th>\n",
       "      <td>Sons of ****, why couldn`t they put them on t...</td>\n",
       "      <td>negative</td>\n",
       "      <td>-1.0</td>\n",
       "    </tr>\n",
       "    <tr>\n",
       "      <th>6</th>\n",
       "      <td>2am feedings for the baby are fun when he is a...</td>\n",
       "      <td>positive</td>\n",
       "      <td>1.0</td>\n",
       "    </tr>\n",
       "  </tbody>\n",
       "</table>\n",
       "</div>"
      ],
      "text/plain": [
       "                                                text sentiment  classification\n",
       "1      Sooo SAD I will miss you here in San Diego!!!  negative            -1.0\n",
       "2                          my boss is bullying me...  negative            -1.0\n",
       "3                     what interview! leave me alone  negative            -1.0\n",
       "4   Sons of ****, why couldn`t they put them on t...  negative            -1.0\n",
       "6  2am feedings for the baby are fun when he is a...  positive             1.0"
      ]
     },
     "execution_count": 33,
     "metadata": {},
     "output_type": "execute_result"
    }
   ],
   "source": [
    "df.head()"
   ]
  },
  {
   "cell_type": "code",
   "execution_count": 38,
   "id": "5b94fe8f-cba7-4e2b-bac1-157f639f02ff",
   "metadata": {},
   "outputs": [
    {
     "data": {
      "text/plain": [
       "' I`d have responded, if I were going'"
      ]
     },
     "execution_count": 38,
     "metadata": {},
     "output_type": "execute_result"
    }
   ],
   "source": [
    "sample_sentence = df[\"text\"][0]\n",
    "sample_sentence"
   ]
  },
  {
   "cell_type": "code",
   "execution_count": 39,
   "id": "3434797b-ed68-43ea-a4c3-a784ce429c14",
   "metadata": {},
   "outputs": [
    {
     "name": "stdout",
     "output_type": "stream",
     "text": [
      "['I', '`', 'd', 'have', 'responded', ',', 'if', 'I', 'were', 'going']\n",
      "[('I', 'PRP'), ('`', '``'), ('d', 'NNS'), ('have', 'VBP'), ('responded', 'VBN'), (',', ','), ('if', 'IN'), ('I', 'PRP'), ('were', 'VBD'), ('going', 'VBG')]\n"
     ]
    }
   ],
   "source": [
    "tokens = nltk.word_tokenize(sample_sentence)\n",
    "tagged = nltk.pos_tag(tokens)\n",
    "print(tokens)\n",
    "print(tagged)"
   ]
  },
  {
   "cell_type": "code",
   "execution_count": 41,
   "id": "307f6c69-f554-4910-80bf-cd205119c0c9",
   "metadata": {},
   "outputs": [
    {
     "data": {
      "text/plain": [
       "<AxesSubplot:xlabel='sentiment', ylabel='count'>"
      ]
     },
     "execution_count": 41,
     "metadata": {},
     "output_type": "execute_result"
    },
    {
     "data": {
      "image/png": "[encoded data removed]",
      "text/plain": [
       "<Figure size 432x288 with 1 Axes>"
      ]
     },
     "metadata": {
      "needs_background": "light"
     },
     "output_type": "display_data"
    }
   ],
   "source": [
    "sns.countplot(x = 'sentiment', data = df)"
   ]
  },
  {
   "cell_type": "markdown",
   "id": "728353ea-36d2-48fd-992a-413ab7039c20",
   "metadata": {},
   "source": [
    "### Data Preprocessing"
   ]
  },
  {
   "cell_type": "code",
   "execution_count": 34,
   "id": "b02406cd-4525-468c-9ea3-f6f04c66c6f7",
   "metadata": {},
   "outputs": [],
   "source": [
    "stopword = nltk.corpus.stopwords.words('english')"
   ]
  },
  {
   "cell_type": "code",
   "execution_count": 35,
   "id": "0ad14e4b-2046-4055-9821-82f86ebd02f6",
   "metadata": {},
   "outputs": [
    {
     "data": {
      "text/html": [
       "<div>\n",
       "<style scoped>\n",
       "    .dataframe tbody tr th:only-of-type {\n",
       "        vertical-align: middle;\n",
       "    }\n",
       "\n",
       "    .dataframe tbody tr th {\n",
       "        vertical-align: top;\n",
       "    }\n",
       "\n",
       "    .dataframe thead th {\n",
       "        text-align: right;\n",
       "    }\n",
       "</style>\n",
       "<table border=\"1\" class=\"dataframe\">\n",
       "  <thead>\n",
       "    <tr style=\"text-align: right;\">\n",
       "      <th></th>\n",
       "      <th>text</th>\n",
       "      <th>sentiment</th>\n",
       "      <th>classification</th>\n",
       "      <th>clean_text</th>\n",
       "    </tr>\n",
       "  </thead>\n",
       "  <tbody>\n",
       "    <tr>\n",
       "      <th>1</th>\n",
       "      <td>Sooo SAD I will miss you here in San Diego!!!</td>\n",
       "      <td>negative</td>\n",
       "      <td>-1.0</td>\n",
       "      <td>[sooo, sad, miss, san, diego]</td>\n",
       "    </tr>\n",
       "    <tr>\n",
       "      <th>2</th>\n",
       "      <td>my boss is bullying me...</td>\n",
       "      <td>negative</td>\n",
       "      <td>-1.0</td>\n",
       "      <td>[boss, bullying]</td>\n",
       "    </tr>\n",
       "    <tr>\n",
       "      <th>3</th>\n",
       "      <td>what interview! leave me alone</td>\n",
       "      <td>negative</td>\n",
       "      <td>-1.0</td>\n",
       "      <td>[interview, leave, alone]</td>\n",
       "    </tr>\n",
       "    <tr>\n",
       "      <th>4</th>\n",
       "      <td>Sons of ****, why couldn`t they put them on t...</td>\n",
       "      <td>negative</td>\n",
       "      <td>-1.0</td>\n",
       "      <td>[sons, couldnt, put, releases, already, bought]</td>\n",
       "    </tr>\n",
       "    <tr>\n",
       "      <th>6</th>\n",
       "      <td>2am feedings for the baby are fun when he is a...</td>\n",
       "      <td>positive</td>\n",
       "      <td>1.0</td>\n",
       "      <td>[feedings, baby, fun, smiles, coos]</td>\n",
       "    </tr>\n",
       "    <tr>\n",
       "      <th>9</th>\n",
       "      <td>Journey!? Wow... u just became cooler.  hehe....</td>\n",
       "      <td>positive</td>\n",
       "      <td>1.0</td>\n",
       "      <td>[journey, wow, u, became, cooler, hehe, possible]</td>\n",
       "    </tr>\n",
       "    <tr>\n",
       "      <th>11</th>\n",
       "      <td>I really really like the song Love Story by Ta...</td>\n",
       "      <td>positive</td>\n",
       "      <td>1.0</td>\n",
       "      <td>[really, really, like, song, love, story, tayl...</td>\n",
       "    </tr>\n",
       "    <tr>\n",
       "      <th>12</th>\n",
       "      <td>My Sharpie is running DANGERously low on ink</td>\n",
       "      <td>negative</td>\n",
       "      <td>-1.0</td>\n",
       "      <td>[sharpie, running, dangerously, low, ink]</td>\n",
       "    </tr>\n",
       "    <tr>\n",
       "      <th>13</th>\n",
       "      <td>i want to go to music tonight but i lost my vo...</td>\n",
       "      <td>negative</td>\n",
       "      <td>-1.0</td>\n",
       "      <td>[want, go, music, tonight, lost, voice]</td>\n",
       "    </tr>\n",
       "    <tr>\n",
       "      <th>15</th>\n",
       "      <td>Uh oh, I am sunburned</td>\n",
       "      <td>negative</td>\n",
       "      <td>-1.0</td>\n",
       "      <td>[uh, oh, sunburned]</td>\n",
       "    </tr>\n",
       "  </tbody>\n",
       "</table>\n",
       "</div>"
      ],
      "text/plain": [
       "                                                 text sentiment  \\\n",
       "1       Sooo SAD I will miss you here in San Diego!!!  negative   \n",
       "2                           my boss is bullying me...  negative   \n",
       "3                      what interview! leave me alone  negative   \n",
       "4    Sons of ****, why couldn`t they put them on t...  negative   \n",
       "6   2am feedings for the baby are fun when he is a...  positive   \n",
       "9    Journey!? Wow... u just became cooler.  hehe....  positive   \n",
       "11  I really really like the song Love Story by Ta...  positive   \n",
       "12       My Sharpie is running DANGERously low on ink  negative   \n",
       "13  i want to go to music tonight but i lost my vo...  negative   \n",
       "15                              Uh oh, I am sunburned  negative   \n",
       "\n",
       "    classification                                         clean_text  \n",
       "1             -1.0                      [sooo, sad, miss, san, diego]  \n",
       "2             -1.0                                   [boss, bullying]  \n",
       "3             -1.0                          [interview, leave, alone]  \n",
       "4             -1.0    [sons, couldnt, put, releases, already, bought]  \n",
       "6              1.0                [feedings, baby, fun, smiles, coos]  \n",
       "9              1.0  [journey, wow, u, became, cooler, hehe, possible]  \n",
       "11             1.0  [really, really, like, song, love, story, tayl...  \n",
       "12            -1.0          [sharpie, running, dangerously, low, ink]  \n",
       "13            -1.0            [want, go, music, tonight, lost, voice]  \n",
       "15            -1.0                                [uh, oh, sunburned]  "
      ]
     },
     "execution_count": 35,
     "metadata": {},
     "output_type": "execute_result"
    }
   ],
   "source": [
    "def remove_punct(text):\n",
    "    text  = \"\".join([char for char in text if char not in string.punctuation])\n",
    "    text = re.sub('[0-9]+', '', text)\n",
    "    return text\n",
    "\n",
    "def tokenization(text):\n",
    "    text = text.strip()\n",
    "    text = re.split('\\W+', text)\n",
    "    return text\n",
    "\n",
    "def remove_stopwords(text):\n",
    "    text = [word for word in text if word not in stopword]\n",
    "    return text\n",
    "\n",
    "df['clean_text'] = df['text'].apply(lambda x: remove_stopwords(tokenization(remove_punct(x).lower())))\n",
    "df.head(10)"
   ]
  },
  {
   "cell_type": "code",
   "execution_count": 36,
   "id": "5da86db3-ad84-451b-862a-7146cd781ada",
   "metadata": {},
   "outputs": [
    {
     "data": {
      "text/html": [
       "<div>\n",
       "<style scoped>\n",
       "    .dataframe tbody tr th:only-of-type {\n",
       "        vertical-align: middle;\n",
       "    }\n",
       "\n",
       "    .dataframe tbody tr th {\n",
       "        vertical-align: top;\n",
       "    }\n",
       "\n",
       "    .dataframe thead th {\n",
       "        text-align: right;\n",
       "    }\n",
       "</style>\n",
       "<table border=\"1\" class=\"dataframe\">\n",
       "  <thead>\n",
       "    <tr style=\"text-align: right;\">\n",
       "      <th></th>\n",
       "      <th>text</th>\n",
       "      <th>sentiment</th>\n",
       "      <th>classification</th>\n",
       "      <th>clean_text</th>\n",
       "      <th>further_clean_text</th>\n",
       "    </tr>\n",
       "  </thead>\n",
       "  <tbody>\n",
       "    <tr>\n",
       "      <th>1</th>\n",
       "      <td>Sooo SAD I will miss you here in San Diego!!!</td>\n",
       "      <td>negative</td>\n",
       "      <td>-1.0</td>\n",
       "      <td>[sooo, sad, miss, san, diego]</td>\n",
       "      <td>[sooo, sad, miss, san, diego]</td>\n",
       "    </tr>\n",
       "    <tr>\n",
       "      <th>2</th>\n",
       "      <td>my boss is bullying me...</td>\n",
       "      <td>negative</td>\n",
       "      <td>-1.0</td>\n",
       "      <td>[boss, bullying]</td>\n",
       "      <td>[bo, bulli]</td>\n",
       "    </tr>\n",
       "    <tr>\n",
       "      <th>3</th>\n",
       "      <td>what interview! leave me alone</td>\n",
       "      <td>negative</td>\n",
       "      <td>-1.0</td>\n",
       "      <td>[interview, leave, alone]</td>\n",
       "      <td>[interview, leav, alon]</td>\n",
       "    </tr>\n",
       "    <tr>\n",
       "      <th>4</th>\n",
       "      <td>Sons of ****, why couldn`t they put them on t...</td>\n",
       "      <td>negative</td>\n",
       "      <td>-1.0</td>\n",
       "      <td>[sons, couldnt, put, releases, already, bought]</td>\n",
       "      <td>[son, couldnt, put, releas, alreadi, bought]</td>\n",
       "    </tr>\n",
       "    <tr>\n",
       "      <th>6</th>\n",
       "      <td>2am feedings for the baby are fun when he is a...</td>\n",
       "      <td>positive</td>\n",
       "      <td>1.0</td>\n",
       "      <td>[feedings, baby, fun, smiles, coos]</td>\n",
       "      <td>[feed, babi, fun, smile, coo]</td>\n",
       "    </tr>\n",
       "    <tr>\n",
       "      <th>9</th>\n",
       "      <td>Journey!? Wow... u just became cooler.  hehe....</td>\n",
       "      <td>positive</td>\n",
       "      <td>1.0</td>\n",
       "      <td>[journey, wow, u, became, cooler, hehe, possible]</td>\n",
       "      <td>[journey, wow, u, becam, cooler, hehe, possibl]</td>\n",
       "    </tr>\n",
       "    <tr>\n",
       "      <th>11</th>\n",
       "      <td>I really really like the song Love Story by Ta...</td>\n",
       "      <td>positive</td>\n",
       "      <td>1.0</td>\n",
       "      <td>[really, really, like, song, love, story, tayl...</td>\n",
       "      <td>[realli, realli, like, song, love, stori, tayl...</td>\n",
       "    </tr>\n",
       "    <tr>\n",
       "      <th>12</th>\n",
       "      <td>My Sharpie is running DANGERously low on ink</td>\n",
       "      <td>negative</td>\n",
       "      <td>-1.0</td>\n",
       "      <td>[sharpie, running, dangerously, low, ink]</td>\n",
       "      <td>[sharpi, run, danger, low, ink]</td>\n",
       "    </tr>\n",
       "    <tr>\n",
       "      <th>13</th>\n",
       "      <td>i want to go to music tonight but i lost my vo...</td>\n",
       "      <td>negative</td>\n",
       "      <td>-1.0</td>\n",
       "      <td>[want, go, music, tonight, lost, voice]</td>\n",
       "      <td>[want, go, music, tonight, lost, voic]</td>\n",
       "    </tr>\n",
       "    <tr>\n",
       "      <th>15</th>\n",
       "      <td>Uh oh, I am sunburned</td>\n",
       "      <td>negative</td>\n",
       "      <td>-1.0</td>\n",
       "      <td>[uh, oh, sunburned]</td>\n",
       "      <td>[uh, oh, sunburn]</td>\n",
       "    </tr>\n",
       "  </tbody>\n",
       "</table>\n",
       "</div>"
      ],
      "text/plain": [
       "                                                 text sentiment  \\\n",
       "1       Sooo SAD I will miss you here in San Diego!!!  negative   \n",
       "2                           my boss is bullying me...  negative   \n",
       "3                      what interview! leave me alone  negative   \n",
       "4    Sons of ****, why couldn`t they put them on t...  negative   \n",
       "6   2am feedings for the baby are fun when he is a...  positive   \n",
       "9    Journey!? Wow... u just became cooler.  hehe....  positive   \n",
       "11  I really really like the song Love Story by Ta...  positive   \n",
       "12       My Sharpie is running DANGERously low on ink  negative   \n",
       "13  i want to go to music tonight but i lost my vo...  negative   \n",
       "15                              Uh oh, I am sunburned  negative   \n",
       "\n",
       "    classification                                         clean_text  \\\n",
       "1             -1.0                      [sooo, sad, miss, san, diego]   \n",
       "2             -1.0                                   [boss, bullying]   \n",
       "3             -1.0                          [interview, leave, alone]   \n",
       "4             -1.0    [sons, couldnt, put, releases, already, bought]   \n",
       "6              1.0                [feedings, baby, fun, smiles, coos]   \n",
       "9              1.0  [journey, wow, u, became, cooler, hehe, possible]   \n",
       "11             1.0  [really, really, like, song, love, story, tayl...   \n",
       "12            -1.0          [sharpie, running, dangerously, low, ink]   \n",
       "13            -1.0            [want, go, music, tonight, lost, voice]   \n",
       "15            -1.0                                [uh, oh, sunburned]   \n",
       "\n",
       "                                   further_clean_text  \n",
       "1                       [sooo, sad, miss, san, diego]  \n",
       "2                                         [bo, bulli]  \n",
       "3                             [interview, leav, alon]  \n",
       "4        [son, couldnt, put, releas, alreadi, bought]  \n",
       "6                       [feed, babi, fun, smile, coo]  \n",
       "9     [journey, wow, u, becam, cooler, hehe, possibl]  \n",
       "11  [realli, realli, like, song, love, stori, tayl...  \n",
       "12                    [sharpi, run, danger, low, ink]  \n",
       "13             [want, go, music, tonight, lost, voic]  \n",
       "15                                  [uh, oh, sunburn]  "
      ]
     },
     "execution_count": 36,
     "metadata": {},
     "output_type": "execute_result"
    }
   ],
   "source": [
    "ps = nltk.PorterStemmer()\n",
    "\n",
    "def stemming(text):\n",
    "    text = [ps.stem(word) for word in text]\n",
    "    return text\n",
    "\n",
    "wn = nltk.WordNetLemmatizer()\n",
    "\n",
    "def lemmatizer(text):\n",
    "    text = [wn.lemmatize(word) for word in text]\n",
    "    return text\n",
    "\n",
    "df['further_clean_text'] = df['clean_text'].apply(lambda x: stemming(lemmatizer(x)))\n",
    "df.head(10)"
   ]
  },
  {
   "cell_type": "code",
   "execution_count": 37,
   "id": "f477f80a-9bcc-4ff6-97d5-5d5a50cd0d2c",
   "metadata": {},
   "outputs": [],
   "source": [
    "df = df.loc[df['further_clean_text'].str.len() > 0]"
   ]
  },
  {
   "cell_type": "code",
   "execution_count": 44,
   "id": "c16f7979-e373-4914-a8ae-de69c030770c",
   "metadata": {},
   "outputs": [
    {
     "data": {
      "text/html": [
       "<div>\n",
       "<style scoped>\n",
       "    .dataframe tbody tr th:only-of-type {\n",
       "        vertical-align: middle;\n",
       "    }\n",
       "\n",
       "    .dataframe tbody tr th {\n",
       "        vertical-align: top;\n",
       "    }\n",
       "\n",
       "    .dataframe thead th {\n",
       "        text-align: right;\n",
       "    }\n",
       "</style>\n",
       "<table border=\"1\" class=\"dataframe\">\n",
       "  <thead>\n",
       "    <tr style=\"text-align: right;\">\n",
       "      <th></th>\n",
       "      <th>text</th>\n",
       "      <th>sentiment</th>\n",
       "      <th>classification</th>\n",
       "      <th>clean_text</th>\n",
       "      <th>further_clean_text</th>\n",
       "    </tr>\n",
       "  </thead>\n",
       "  <tbody>\n",
       "    <tr>\n",
       "      <th>1</th>\n",
       "      <td>Sooo SAD I will miss you here in San Diego!!!</td>\n",
       "      <td>negative</td>\n",
       "      <td>-1.0</td>\n",
       "      <td>[sooo, sad, miss, san, diego]</td>\n",
       "      <td>[sooo, sad, miss, san, diego]</td>\n",
       "    </tr>\n",
       "    <tr>\n",
       "      <th>2</th>\n",
       "      <td>my boss is bullying me...</td>\n",
       "      <td>negative</td>\n",
       "      <td>-1.0</td>\n",
       "      <td>[boss, bullying]</td>\n",
       "      <td>[bo, bulli]</td>\n",
       "    </tr>\n",
       "    <tr>\n",
       "      <th>3</th>\n",
       "      <td>what interview! leave me alone</td>\n",
       "      <td>negative</td>\n",
       "      <td>-1.0</td>\n",
       "      <td>[interview, leave, alone]</td>\n",
       "      <td>[interview, leav, alon]</td>\n",
       "    </tr>\n",
       "    <tr>\n",
       "      <th>4</th>\n",
       "      <td>Sons of ****, why couldn`t they put them on t...</td>\n",
       "      <td>negative</td>\n",
       "      <td>-1.0</td>\n",
       "      <td>[sons, couldnt, put, releases, already, bought]</td>\n",
       "      <td>[son, couldnt, put, releas, alreadi, bought]</td>\n",
       "    </tr>\n",
       "    <tr>\n",
       "      <th>6</th>\n",
       "      <td>2am feedings for the baby are fun when he is a...</td>\n",
       "      <td>positive</td>\n",
       "      <td>1.0</td>\n",
       "      <td>[feedings, baby, fun, smiles, coos]</td>\n",
       "      <td>[feed, babi, fun, smile, coo]</td>\n",
       "    </tr>\n",
       "    <tr>\n",
       "      <th>9</th>\n",
       "      <td>Journey!? Wow... u just became cooler.  hehe....</td>\n",
       "      <td>positive</td>\n",
       "      <td>1.0</td>\n",
       "      <td>[journey, wow, u, became, cooler, hehe, possible]</td>\n",
       "      <td>[journey, wow, u, becam, cooler, hehe, possibl]</td>\n",
       "    </tr>\n",
       "    <tr>\n",
       "      <th>11</th>\n",
       "      <td>I really really like the song Love Story by Ta...</td>\n",
       "      <td>positive</td>\n",
       "      <td>1.0</td>\n",
       "      <td>[really, really, like, song, love, story, tayl...</td>\n",
       "      <td>[realli, realli, like, song, love, stori, tayl...</td>\n",
       "    </tr>\n",
       "    <tr>\n",
       "      <th>12</th>\n",
       "      <td>My Sharpie is running DANGERously low on ink</td>\n",
       "      <td>negative</td>\n",
       "      <td>-1.0</td>\n",
       "      <td>[sharpie, running, dangerously, low, ink]</td>\n",
       "      <td>[sharpi, run, danger, low, ink]</td>\n",
       "    </tr>\n",
       "    <tr>\n",
       "      <th>13</th>\n",
       "      <td>i want to go to music tonight but i lost my vo...</td>\n",
       "      <td>negative</td>\n",
       "      <td>-1.0</td>\n",
       "      <td>[want, go, music, tonight, lost, voice]</td>\n",
       "      <td>[want, go, music, tonight, lost, voic]</td>\n",
       "    </tr>\n",
       "    <tr>\n",
       "      <th>15</th>\n",
       "      <td>Uh oh, I am sunburned</td>\n",
       "      <td>negative</td>\n",
       "      <td>-1.0</td>\n",
       "      <td>[uh, oh, sunburned]</td>\n",
       "      <td>[uh, oh, sunburn]</td>\n",
       "    </tr>\n",
       "  </tbody>\n",
       "</table>\n",
       "</div>"
      ],
      "text/plain": [
       "                                                 text sentiment  \\\n",
       "1       Sooo SAD I will miss you here in San Diego!!!  negative   \n",
       "2                           my boss is bullying me...  negative   \n",
       "3                      what interview! leave me alone  negative   \n",
       "4    Sons of ****, why couldn`t they put them on t...  negative   \n",
       "6   2am feedings for the baby are fun when he is a...  positive   \n",
       "9    Journey!? Wow... u just became cooler.  hehe....  positive   \n",
       "11  I really really like the song Love Story by Ta...  positive   \n",
       "12       My Sharpie is running DANGERously low on ink  negative   \n",
       "13  i want to go to music tonight but i lost my vo...  negative   \n",
       "15                              Uh oh, I am sunburned  negative   \n",
       "\n",
       "    classification                                         clean_text  \\\n",
       "1             -1.0                      [sooo, sad, miss, san, diego]   \n",
       "2             -1.0                                   [boss, bullying]   \n",
       "3             -1.0                          [interview, leave, alone]   \n",
       "4             -1.0    [sons, couldnt, put, releases, already, bought]   \n",
       "6              1.0                [feedings, baby, fun, smiles, coos]   \n",
       "9              1.0  [journey, wow, u, became, cooler, hehe, possible]   \n",
       "11             1.0  [really, really, like, song, love, story, tayl...   \n",
       "12            -1.0          [sharpie, running, dangerously, low, ink]   \n",
       "13            -1.0            [want, go, music, tonight, lost, voice]   \n",
       "15            -1.0                                [uh, oh, sunburned]   \n",
       "\n",
       "                                   further_clean_text  \n",
       "1                       [sooo, sad, miss, san, diego]  \n",
       "2                                         [bo, bulli]  \n",
       "3                             [interview, leav, alon]  \n",
       "4        [son, couldnt, put, releas, alreadi, bought]  \n",
       "6                       [feed, babi, fun, smile, coo]  \n",
       "9     [journey, wow, u, becam, cooler, hehe, possibl]  \n",
       "11  [realli, realli, like, song, love, stori, tayl...  \n",
       "12                    [sharpi, run, danger, low, ink]  \n",
       "13             [want, go, music, tonight, lost, voic]  \n",
       "15                                  [uh, oh, sunburn]  "
      ]
     },
     "execution_count": 44,
     "metadata": {},
     "output_type": "execute_result"
    }
   ],
   "source": [
    "df.head(10)"
   ]
  },
  {
   "cell_type": "markdown",
   "id": "ecf35c11-1434-4566-ab73-ea23bd239235",
   "metadata": {},
   "source": [
    "### Compute TF-IDF"
   ]
  },
  {
   "cell_type": "code",
   "execution_count": 9,
   "id": "5637c81c-3f14-480d-88ad-b40fc5b7915a",
   "metadata": {},
   "outputs": [
    {
     "name": "stdout",
     "output_type": "stream",
     "text": [
      "16044\n"
     ]
    }
   ],
   "source": [
    "unique_words = set()\n",
    "for tokens in df['further_clean_text']:\n",
    "    unique_words = unique_words.union(set(tokens))\n",
    "print(len(unique_words))"
   ]
  },
  {
   "cell_type": "code",
   "execution_count": 10,
   "id": "1333098c-0796-4ddf-a96a-2e52d3817c84",
   "metadata": {},
   "outputs": [
    {
     "data": {
      "text/plain": [
       "16359"
      ]
     },
     "execution_count": 10,
     "metadata": {},
     "output_type": "execute_result"
    }
   ],
   "source": [
    "len(df['further_clean_text'])"
   ]
  },
  {
   "cell_type": "code",
   "execution_count": 11,
   "id": "b36f147d-6284-4ad8-ace3-1700c5632533",
   "metadata": {},
   "outputs": [],
   "source": [
    "def computeIDF(documents):\n",
    "    N = len(documents)\n",
    "    idfDict = dict.fromkeys(documents[0].keys(), 0)\n",
    "    for document in documents:\n",
    "        for word, val in document.items():\n",
    "            if val > 0:\n",
    "                idfDict[word] += 1\n",
    "    \n",
    "    for word, val in idfDict.items():\n",
    "        idfDict[word] = math.log(N / float(val))\n",
    "    return idfDict\n"
   ]
  },
  {
   "cell_type": "code",
   "execution_count": 12,
   "id": "c341f5a4-be2d-4fbb-9120-2324cd1da2f0",
   "metadata": {},
   "outputs": [],
   "source": [
    "def computeTF(wordDict, bagOfWords):\n",
    "    tfDict = {}\n",
    "    bagOfWordsCount = len(bagOfWords)\n",
    "    for word, count in wordDict.items():\n",
    "        tfDict[word] = count / float(bagOfWordsCount)\n",
    "    return tfDict\n",
    "\n",
    "def getBagOfWords(text_list):\n",
    "    return set(text_list)\n",
    "\n",
    "documents = []\n",
    "for tokens in df['further_clean_text']:\n",
    "    bag = getBagOfWords(tokens)\n",
    "    num_of_words = dict.fromkeys(unique_words, 0)\n",
    "    for word in bag:\n",
    "        num_of_words[word] += 1\n",
    "    tf = computeTF(num_of_words, bag)\n",
    "    documents.append(tf)\n",
    "    \n",
    "idfs = computeIDF(documents)"
   ]
  },
  {
   "cell_type": "code",
   "execution_count": null,
   "id": "7f4d1e94-d0ad-43a4-a164-3d5d9f16058c",
   "metadata": {},
   "outputs": [],
   "source": [
    "def computeTFIDF(tfBagOfWords, idfs):\n",
    "    tfidf = {}\n",
    "    for word, val in tfBagOfWords.items():\n",
    "        tfidf[word] = val * idfs[word]\n",
    "    return tfidf\n",
    "\n",
    "dictionaries = []\n",
    "i = 0\n",
    "for tokens in df['further_clean_text']:\n",
    "    tfidf = computeTFIDF(documents[i], idfs)    \n",
    "    dictionaries.append(tfidf)\n",
    "    i += 1\n",
    "\n",
    "sample_df = pd.DataFrame.from_dict(dictionaries)\n",
    "    "
   ]
  },
  {
   "cell_type": "code",
   "execution_count": 99,
   "id": "82532625-a4ed-4d03-be7c-a1ee85a82d48",
   "metadata": {},
   "outputs": [
    {
     "data": {
      "text/html": [
       "<div>\n",
       "<style scoped>\n",
       "    .dataframe tbody tr th:only-of-type {\n",
       "        vertical-align: middle;\n",
       "    }\n",
       "\n",
       "    .dataframe tbody tr th {\n",
       "        vertical-align: top;\n",
       "    }\n",
       "\n",
       "    .dataframe thead th {\n",
       "        text-align: right;\n",
       "    }\n",
       "</style>\n",
       "<table border=\"1\" class=\"dataframe\">\n",
       "  <thead>\n",
       "    <tr style=\"text-align: right;\">\n",
       "      <th></th>\n",
       "      <th>alreadi</th>\n",
       "      <th>miss</th>\n",
       "      <th>sad</th>\n",
       "      <th>bulli</th>\n",
       "      <th>put</th>\n",
       "      <th>diego</th>\n",
       "      <th>son</th>\n",
       "      <th>go</th>\n",
       "      <th>leav</th>\n",
       "      <th>sooo</th>\n",
       "      <th>alon</th>\n",
       "      <th>bo</th>\n",
       "      <th>bought</th>\n",
       "      <th>interview</th>\n",
       "      <th>san</th>\n",
       "      <th>releas</th>\n",
       "      <th>id</th>\n",
       "      <th>couldnt</th>\n",
       "      <th>respond</th>\n",
       "    </tr>\n",
       "  </thead>\n",
       "  <tbody>\n",
       "    <tr>\n",
       "      <th>0</th>\n",
       "      <td>0.00000</td>\n",
       "      <td>0.000000</td>\n",
       "      <td>0.000000</td>\n",
       "      <td>0.000000</td>\n",
       "      <td>0.00000</td>\n",
       "      <td>0.000000</td>\n",
       "      <td>0.00000</td>\n",
       "      <td>0.536479</td>\n",
       "      <td>0.000000</td>\n",
       "      <td>0.000000</td>\n",
       "      <td>0.000000</td>\n",
       "      <td>0.000000</td>\n",
       "      <td>0.00000</td>\n",
       "      <td>0.000000</td>\n",
       "      <td>0.000000</td>\n",
       "      <td>0.00000</td>\n",
       "      <td>0.536479</td>\n",
       "      <td>0.00000</td>\n",
       "      <td>0.536479</td>\n",
       "    </tr>\n",
       "    <tr>\n",
       "      <th>1</th>\n",
       "      <td>0.00000</td>\n",
       "      <td>0.321888</td>\n",
       "      <td>0.321888</td>\n",
       "      <td>0.000000</td>\n",
       "      <td>0.00000</td>\n",
       "      <td>0.321888</td>\n",
       "      <td>0.00000</td>\n",
       "      <td>0.000000</td>\n",
       "      <td>0.000000</td>\n",
       "      <td>0.321888</td>\n",
       "      <td>0.000000</td>\n",
       "      <td>0.000000</td>\n",
       "      <td>0.00000</td>\n",
       "      <td>0.000000</td>\n",
       "      <td>0.321888</td>\n",
       "      <td>0.00000</td>\n",
       "      <td>0.000000</td>\n",
       "      <td>0.00000</td>\n",
       "      <td>0.000000</td>\n",
       "    </tr>\n",
       "    <tr>\n",
       "      <th>2</th>\n",
       "      <td>0.00000</td>\n",
       "      <td>0.000000</td>\n",
       "      <td>0.000000</td>\n",
       "      <td>0.804719</td>\n",
       "      <td>0.00000</td>\n",
       "      <td>0.000000</td>\n",
       "      <td>0.00000</td>\n",
       "      <td>0.000000</td>\n",
       "      <td>0.000000</td>\n",
       "      <td>0.000000</td>\n",
       "      <td>0.000000</td>\n",
       "      <td>0.804719</td>\n",
       "      <td>0.00000</td>\n",
       "      <td>0.000000</td>\n",
       "      <td>0.000000</td>\n",
       "      <td>0.00000</td>\n",
       "      <td>0.000000</td>\n",
       "      <td>0.00000</td>\n",
       "      <td>0.000000</td>\n",
       "    </tr>\n",
       "    <tr>\n",
       "      <th>3</th>\n",
       "      <td>0.00000</td>\n",
       "      <td>0.000000</td>\n",
       "      <td>0.000000</td>\n",
       "      <td>0.000000</td>\n",
       "      <td>0.00000</td>\n",
       "      <td>0.000000</td>\n",
       "      <td>0.00000</td>\n",
       "      <td>0.000000</td>\n",
       "      <td>0.536479</td>\n",
       "      <td>0.000000</td>\n",
       "      <td>0.536479</td>\n",
       "      <td>0.000000</td>\n",
       "      <td>0.00000</td>\n",
       "      <td>0.536479</td>\n",
       "      <td>0.000000</td>\n",
       "      <td>0.00000</td>\n",
       "      <td>0.000000</td>\n",
       "      <td>0.00000</td>\n",
       "      <td>0.000000</td>\n",
       "    </tr>\n",
       "    <tr>\n",
       "      <th>4</th>\n",
       "      <td>0.26824</td>\n",
       "      <td>0.000000</td>\n",
       "      <td>0.000000</td>\n",
       "      <td>0.000000</td>\n",
       "      <td>0.26824</td>\n",
       "      <td>0.000000</td>\n",
       "      <td>0.26824</td>\n",
       "      <td>0.000000</td>\n",
       "      <td>0.000000</td>\n",
       "      <td>0.000000</td>\n",
       "      <td>0.000000</td>\n",
       "      <td>0.000000</td>\n",
       "      <td>0.26824</td>\n",
       "      <td>0.000000</td>\n",
       "      <td>0.000000</td>\n",
       "      <td>0.26824</td>\n",
       "      <td>0.000000</td>\n",
       "      <td>0.26824</td>\n",
       "      <td>0.000000</td>\n",
       "    </tr>\n",
       "  </tbody>\n",
       "</table>\n",
       "</div>"
      ],
      "text/plain": [
       "   alreadi      miss       sad     bulli      put     diego      son  \\\n",
       "0  0.00000  0.000000  0.000000  0.000000  0.00000  0.000000  0.00000   \n",
       "1  0.00000  0.321888  0.321888  0.000000  0.00000  0.321888  0.00000   \n",
       "2  0.00000  0.000000  0.000000  0.804719  0.00000  0.000000  0.00000   \n",
       "3  0.00000  0.000000  0.000000  0.000000  0.00000  0.000000  0.00000   \n",
       "4  0.26824  0.000000  0.000000  0.000000  0.26824  0.000000  0.26824   \n",
       "\n",
       "         go      leav      sooo      alon        bo   bought  interview  \\\n",
       "0  0.536479  0.000000  0.000000  0.000000  0.000000  0.00000   0.000000   \n",
       "1  0.000000  0.000000  0.321888  0.000000  0.000000  0.00000   0.000000   \n",
       "2  0.000000  0.000000  0.000000  0.000000  0.804719  0.00000   0.000000   \n",
       "3  0.000000  0.536479  0.000000  0.536479  0.000000  0.00000   0.536479   \n",
       "4  0.000000  0.000000  0.000000  0.000000  0.000000  0.26824   0.000000   \n",
       "\n",
       "        san   releas        id  couldnt   respond  \n",
       "0  0.000000  0.00000  0.536479  0.00000  0.536479  \n",
       "1  0.321888  0.00000  0.000000  0.00000  0.000000  \n",
       "2  0.000000  0.00000  0.000000  0.00000  0.000000  \n",
       "3  0.000000  0.00000  0.000000  0.00000  0.000000  \n",
       "4  0.000000  0.26824  0.000000  0.26824  0.000000  "
      ]
     },
     "execution_count": 99,
     "metadata": {},
     "output_type": "execute_result"
    }
   ],
   "source": [
    "sample_df"
   ]
  },
  {
   "cell_type": "markdown",
   "id": "94dbba66-0ad8-4601-8957-6f05c1a612d7",
   "metadata": {},
   "source": [
    "Due to memory limitations we will not be using TF-IDF for our embedding, but this demonstrates the issue adversarial examples create across social media. The vocabulary space has grown extremely large causing this approach to require more memory than we have access to. An industrial setting may have the hardware capable of supporting this approach, but the problem is also at a larger scale for industrial platforms. "
   ]
  },
  {
   "cell_type": "markdown",
   "id": "43ea2f0f-7631-4145-a418-f4d8f522cd63",
   "metadata": {},
   "source": [
    "### Gensim Word2Vec"
   ]
  },
  {
   "cell_type": "code",
   "execution_count": 39,
   "id": "f1672a3e-29c4-4502-995a-29fd0a31c119",
   "metadata": {},
   "outputs": [],
   "source": [
    "import gensim"
   ]
  },
  {
   "cell_type": "code",
   "execution_count": 121,
   "id": "6107cc20-b79f-4c7e-a0ad-2244c42226a4",
   "metadata": {},
   "outputs": [],
   "source": [
    "model = gensim.models.Word2Vec(df['further_clean_text'], window=10, min_count=2, seed=1)"
   ]
  },
  {
   "cell_type": "code",
   "execution_count": 122,
   "id": "d2a51186-824d-418e-a56e-8cc15f6fcdca",
   "metadata": {},
   "outputs": [
    {
     "data": {
      "text/plain": [
       "[('say', 0.9994595050811768),\n",
       " ('hey', 0.9993963241577148),\n",
       " ('said', 0.9993407726287842),\n",
       " ('p', 0.9993391633033752),\n",
       " ('hehe', 0.999327540397644),\n",
       " ('mani', 0.9993202686309814),\n",
       " ('she', 0.9993056058883667),\n",
       " ('song', 0.999302327632904),\n",
       " ('littl', 0.9992911219596863),\n",
       " ('job', 0.9992825388908386)]"
      ]
     },
     "execution_count": 122,
     "metadata": {},
     "output_type": "execute_result"
    }
   ],
   "source": [
    "model.wv.most_similar('hello', topn=10)"
   ]
  },
  {
   "cell_type": "code",
   "execution_count": 101,
   "id": "e19eb5df-ea7c-488e-8442-f5adc9efb320",
   "metadata": {},
   "outputs": [
    {
     "data": {
      "text/plain": [
       "100"
      ]
     },
     "execution_count": 101,
     "metadata": {},
     "output_type": "execute_result"
    }
   ],
   "source": [
    "len(model.wv['hello'])"
   ]
  },
  {
   "cell_type": "code",
   "execution_count": 102,
   "id": "a908a11e-9d40-47a5-adb4-f80329dc05e2",
   "metadata": {},
   "outputs": [
    {
     "data": {
      "text/plain": [
       "16044"
      ]
     },
     "execution_count": 102,
     "metadata": {},
     "output_type": "execute_result"
    }
   ],
   "source": [
    "len(model.wv)"
   ]
  },
  {
   "cell_type": "markdown",
   "id": "9784bbc9-1504-4ce5-b7fa-14d4bb80aeda",
   "metadata": {},
   "source": [
    "So our dataset consists of 16044 documents each with varying number of words. Let us first try using the mean of the vectors of each words"
   ]
  },
  {
   "cell_type": "code",
   "execution_count": 130,
   "id": "85085f73-efb7-4924-965b-3b869f966842",
   "metadata": {},
   "outputs": [],
   "source": [
    "def create_data(train_data, label_data):\n",
    "    n = 100\n",
    "    m = len(train_data)\n",
    "    X = np.zeros((m, n))\n",
    "    y = label_data\n",
    "\n",
    "    ind = 0\n",
    "    for tokens in train_data:\n",
    "        vec = np.zeros((n))\n",
    "        count = 0\n",
    "        for token in tokens:\n",
    "            if token in model.wv:\n",
    "                count += 1\n",
    "                vec += model.wv[token]\n",
    "        if count != 0:\n",
    "            vec = np.divide(vec, count)\n",
    "        X[ind] = vec\n",
    "        ind += 1\n",
    "    return X, y"
   ]
  },
  {
   "cell_type": "code",
   "execution_count": 142,
   "id": "baedd20c-a969-4539-90f7-ac1bc0dfe632",
   "metadata": {},
   "outputs": [
    {
     "name": "stdout",
     "output_type": "stream",
     "text": [
      "(13087,)\n",
      "(3272,)\n",
      "(13087,)\n",
      "(3272,)\n"
     ]
    }
   ],
   "source": [
    "X_train_raw, X_test_raw, y_train_raw, y_test_raw = train_test_split(df['further_clean_text'], df['classification'], test_size=0.2)\n",
    "print(X_train_raw.shape)\n",
    "print(X_test_raw.shape)\n",
    "print(y_train_raw.shape)\n",
    "print(y_test_raw.shape)"
   ]
  },
  {
   "cell_type": "code",
   "execution_count": 145,
   "id": "f15ae87d-629b-4629-b701-f7d0c9afc054",
   "metadata": {},
   "outputs": [],
   "source": [
    "X_train, y_train = create_data(X_train_raw, y_train_raw)"
   ]
  },
  {
   "cell_type": "code",
   "execution_count": null,
   "id": "82bd6989-39b9-4f66-8a56-9c0d7636d573",
   "metadata": {},
   "outputs": [],
   "source": [
    "# def gd(X_train, y_train, w, lambd, gamm):\n",
    "#     w = np.zeros(X_train.shape[1])\n",
    "#     i = 0\n",
    "#     converged = False\n",
    "#     thresh = 1e-9\n",
    "#     while not converged and i <= 1000:\n",
    "#         grad = \n",
    "#         err = np.linalg.norm(np.matmul(X, w) - y, 2) + lambd * np.linalg.norm(w, 1)\n",
    "        "
   ]
  }
 ],
 "metadata": {
  "kernelspec": {
   "display_name": "Python 3 (ipykernel)",
   "language": "python",
   "name": "python3"
  },
  "language_info": {
   "codemirror_mode": {
    "name": "ipython",
    "version": 3
   },
   "file_extension": ".py",
   "mimetype": "text/x-python",
   "name": "python",
   "nbconvert_exporter": "python",
   "pygments_lexer": "ipython3",
   "version": "3.9.7"
  }
 },
 "nbformat": 4,
 "nbformat_minor": 5
}
