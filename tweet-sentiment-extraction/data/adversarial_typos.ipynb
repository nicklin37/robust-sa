{
 "cells": [
  {
   "cell_type": "code",
   "execution_count": 1,
   "id": "ae67f119-0b7d-4a02-a427-15e994219d25",
   "metadata": {},
   "outputs": [],
   "source": [
    "import csv\n",
    "import pandas as pd\n",
    "import random\n",
    "import numpy as np"
   ]
  },
  {
   "cell_type": "code",
   "execution_count": 2,
   "id": "2740af38-a042-4723-86cd-6955d8d9fe8a",
   "metadata": {},
   "outputs": [],
   "source": [
    "df = pd.read_csv(r'train.csv')\n",
    "df = df.dropna()"
   ]
  },
  {
   "cell_type": "code",
   "execution_count": 7,
   "id": "e5dd7c05-8844-4f8d-a83c-6890742a2c64",
   "metadata": {},
   "outputs": [],
   "source": [
    "def get_insertion_string(text, duplicate_index, num_duplications):\n",
    "    ind = 0\n",
    "    global_ind = 0\n",
    "    dup_char = ''\n",
    "    for c in text:\n",
    "        if c.isalpha() or c.isdigit():\n",
    "            if ind == duplicate_index:\n",
    "                dup_char = c\n",
    "                break\n",
    "            else:\n",
    "                ind += 1\n",
    "        global_ind += 1\n",
    "    \n",
    "    return text[:global_ind] + num_duplications * dup_char + text[global_ind:]"
   ]
  },
  {
   "cell_type": "code",
   "execution_count": 20,
   "id": "db941130-1595-4595-aa96-f1f898293d0b",
   "metadata": {},
   "outputs": [],
   "source": [
    "def create_adversarial_examples(data, adv_size=0.5):\n",
    "    skip = 1 / adv_size\n",
    "    adversarial_examples = []\n",
    "    labels = []\n",
    "    for index, row in df.iterrows():\n",
    "        if index % skip == 0:\n",
    "            adversarial_examples.append(row['text'])\n",
    "            labels.append(row['sentiment'])\n",
    "            continue\n",
    "        text = row['text']\n",
    "        text_tokens = text.split(' ')\n",
    "        text_len = len(text_tokens)\n",
    "        # there are three types of letter-level typos: insertion, deletion, swaps\n",
    "        # each adversarial example has a uniform chance of being each type\n",
    "        typo_type = random.randint(1, 3)\n",
    "        # edge case: don't allow typo creation if we barely have any characters\n",
    "        if text_len < 4:\n",
    "            continue\n",
    "        # insertion\n",
    "        if typo_type == 1:\n",
    "            num_duplications = random.randint(1, 3)\n",
    "            # count total number of alphanumeric characters\n",
    "            char_total = sum(c.isalpha() or c.isdigit() for c in text)\n",
    "            duplicate_index = random.randint(0, char_total-1)\n",
    "            adversarial_examples.append(get_insertion_string(text, duplicate_index, num_duplications))\n",
    "        # deletion\n",
    "        if typo_type == 2:\n",
    "            num_deletions = random.randint(1, 3)\n",
    "            deletion_index = random.randint(num_deletions, text_len-1)\n",
    "            adversarial_examples.append(text[:deletion_index-num_deletions] + text[deletion_index:])\n",
    "        # swap\n",
    "        if typo_type == 3:\n",
    "            swap_index = random.randint(2, text_len-1)\n",
    "            text = ''.join((text[:swap_index-2], text[swap_index], text[swap_index-1], text[swap_index:]))\n",
    "            adversarial_examples.append(text)\n",
    "        \n",
    "        labels.append(row['sentiment'])\n",
    "        \n",
    "    d = {\"text\": adversarial_examples, \"sentiment\": labels}\n",
    "    new_df = pd.DataFrame(d)\n",
    "    return new_df"
   ]
  },
  {
   "cell_type": "code",
   "execution_count": 21,
   "id": "4d988128-ed92-4a04-8a08-1f96986d5474",
   "metadata": {},
   "outputs": [],
   "source": [
    "df = create_adversarial_examples(df)"
   ]
  },
  {
   "cell_type": "code",
   "execution_count": 22,
   "id": "3f2cc1bb-f461-449c-a9e4-8917cf04bcf4",
   "metadata": {},
   "outputs": [
    {
     "data": {
      "text/html": [
       "<div>\n",
       "<style scoped>\n",
       "    .dataframe tbody tr th:only-of-type {\n",
       "        vertical-align: middle;\n",
       "    }\n",
       "\n",
       "    .dataframe tbody tr th {\n",
       "        vertical-align: top;\n",
       "    }\n",
       "\n",
       "    .dataframe thead th {\n",
       "        text-align: right;\n",
       "    }\n",
       "</style>\n",
       "<table border=\"1\" class=\"dataframe\">\n",
       "  <thead>\n",
       "    <tr style=\"text-align: right;\">\n",
       "      <th></th>\n",
       "      <th>text</th>\n",
       "      <th>sentiment</th>\n",
       "    </tr>\n",
       "  </thead>\n",
       "  <tbody>\n",
       "    <tr>\n",
       "      <th>0</th>\n",
       "      <td>I`d have responded, if I were going</td>\n",
       "      <td>neutral</td>\n",
       "    </tr>\n",
       "    <tr>\n",
       "      <th>1</th>\n",
       "      <td>Sooo SA I will miss you here in San Diego!!!</td>\n",
       "      <td>negative</td>\n",
       "    </tr>\n",
       "    <tr>\n",
       "      <th>2</th>\n",
       "      <td>my boss is bullying me...</td>\n",
       "      <td>negative</td>\n",
       "    </tr>\n",
       "    <tr>\n",
       "      <th>3</th>\n",
       "      <td>what interview! leave me alonnne</td>\n",
       "      <td>negative</td>\n",
       "    </tr>\n",
       "    <tr>\n",
       "      <th>4</th>\n",
       "      <td>Sons of ****, why couldn`t they put them on t...</td>\n",
       "      <td>negative</td>\n",
       "    </tr>\n",
       "    <tr>\n",
       "      <th>5</th>\n",
       "      <td>htttp://www.dothebouncy.com/smf - some shamele...</td>\n",
       "      <td>neutral</td>\n",
       "    </tr>\n",
       "    <tr>\n",
       "      <th>6</th>\n",
       "      <td>2am feedings for the baby are fun when he is a...</td>\n",
       "      <td>positive</td>\n",
       "    </tr>\n",
       "    <tr>\n",
       "      <th>7</th>\n",
       "      <td>Both of you</td>\n",
       "      <td>neutral</td>\n",
       "    </tr>\n",
       "    <tr>\n",
       "      <th>8</th>\n",
       "      <td>Jrney!? Wow... u just became cooler.  hehe......</td>\n",
       "      <td>positive</td>\n",
       "    </tr>\n",
       "    <tr>\n",
       "      <th>9</th>\n",
       "      <td>as much as i love to be hopeful, i reckon the...</td>\n",
       "      <td>neutral</td>\n",
       "    </tr>\n",
       "  </tbody>\n",
       "</table>\n",
       "</div>"
      ],
      "text/plain": [
       "                                                text sentiment\n",
       "0                I`d have responded, if I were going   neutral\n",
       "1       Sooo SA I will miss you here in San Diego!!!  negative\n",
       "2                          my boss is bullying me...  negative\n",
       "3                   what interview! leave me alonnne  negative\n",
       "4   Sons of ****, why couldn`t they put them on t...  negative\n",
       "5  htttp://www.dothebouncy.com/smf - some shamele...   neutral\n",
       "6  2am feedings for the baby are fun when he is a...  positive\n",
       "7                                        Both of you   neutral\n",
       "8   Jrney!? Wow... u just became cooler.  hehe......  positive\n",
       "9   as much as i love to be hopeful, i reckon the...   neutral"
      ]
     },
     "execution_count": 22,
     "metadata": {},
     "output_type": "execute_result"
    }
   ],
   "source": [
    "df.head(10)"
   ]
  },
  {
   "cell_type": "code",
   "execution_count": 24,
   "id": "0b565a91-bb38-4e21-8456-529b0af24fa6",
   "metadata": {},
   "outputs": [],
   "source": [
    "df.to_csv('adversarial_typos_train.csv')"
   ]
  }
 ],
 "metadata": {
  "kernelspec": {
   "display_name": "Python 3 (ipykernel)",
   "language": "python",
   "name": "python3"
  },
  "language_info": {
   "codemirror_mode": {
    "name": "ipython",
    "version": 3
   },
   "file_extension": ".py",
   "mimetype": "text/x-python",
   "name": "python",
   "nbconvert_exporter": "python",
   "pygments_lexer": "ipython3",
   "version": "3.9.7"
  }
 },
 "nbformat": 4,
 "nbformat_minor": 5
}
